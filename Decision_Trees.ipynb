{
 "cells": [
  {
   "cell_type": "markdown",
   "id": "6edfa30b-cc20-44cd-9463-f1266cde39e7",
   "metadata": {},
   "source": [
    "# Malaria Treatment "
   ]
  },
  {
   "cell_type": "markdown",
   "id": "075ef8eb-cd13-407d-b310-4265e9e36204",
   "metadata": {},
   "source": [
    "## Step-by-Step Explanation:\n",
    "\n",
    "The given diagram follows these logical steps:\n",
    "\n",
    "1. **Check Symptoms**: Initial check for malaria symptoms.\n",
    "\n",
    "2. **Lab Test**: Conduct RDT/microscopy lab test.\n",
    "\n",
    "3. **Evaluate Result**:\n",
    "   - If **negative**, no malaria.\n",
    "   - If **positive**, identify parasite type via blood film.\n",
    "\n",
    "4. **Classify Parasite**: Identify as either:\n",
    "   - **P. vivax**, based on the presence of:\n",
    "     - Ameboid trophozoite\n",
    "     - Large round gametocyte\n",
    "     - Enlarged cells\n",
    "     - Irregular cytoplasm\n",
    "   - **P. falciparum**, based on the presence of:\n",
    "     - Numerous small ring trophozoite\n",
    "     - Banana-shaped gametocyte\n",
    "     - Non-enlarged cells\n",
    "     - Regular cytoplasm\n",
    "\n",
    "5. **Treatment Based on Parasite Type**: Apply the corresponding treatment.\n"
   ]
  },
  {
   "cell_type": "code",
   "execution_count": 1,
   "id": "a9fbb2de-08c5-40f6-9397-612540f46895",
   "metadata": {},
   "outputs": [
    {
     "name": "stdout",
     "output_type": "stream",
     "text": [
      "Patient diagnosed with positive P. falciparum malaria.\n",
      "Treatment: ACT, OQ, QIM\n"
     ]
    }
   ],
   "source": [
    "# Define symptoms and lab results as variables (could be taken as input)\n",
    "\n",
    "# Step 1: Check initial symptoms (probability of malaria)\n",
    "symptoms_present = True  # Assuming symptoms observed\n",
    "\n",
    "# Step 2: Lab test results\n",
    "lab_test_result = 'Positive'  # or 'Negative'\n",
    "\n",
    "# Parasite identification based on blood film observations\n",
    "parasite_features = {\n",
    "    'Ameboid trophozoite': False,\n",
    "    'Large round gametocyte': False,\n",
    "    'Enlarged cells': False,\n",
    "    'Irregular cytoplasm': False,\n",
    "    'Numerous small ring trophozoite': True,\n",
    "    'Banana-shaped gametocyte': True,\n",
    "    'Not enlarged cell': True,\n",
    "    'Regular cytoplasm': True\n",
    "}\n",
    "\n",
    "# Step 3: Decision logic based on test result\n",
    "if symptoms_present:\n",
    "    if lab_test_result == 'Negative':\n",
    "        print(\"Malaria free: Treat for other disease.\")\n",
    "    elif lab_test_result == 'Positive':\n",
    "        # Identify parasite type\n",
    "        if (parasite_features['Ameboid trophozoite'] or\n",
    "            parasite_features['Large round gametocyte'] or\n",
    "            parasite_features['Enlarged cells'] or\n",
    "            parasite_features['Irregular cytoplasm']):\n",
    "            \n",
    "            print(\"Patient diagnosed with positive P. vivax malaria.\")\n",
    "            print(\"Treatment: Chloroquine (CQ), Primaquine (PQ)\")\n",
    "        \n",
    "        elif (parasite_features['Numerous small ring trophozoite'] or\n",
    "              parasite_features['Banana-shaped gametocyte'] or\n",
    "              parasite_features['Not enlarged cell'] or\n",
    "              parasite_features['Regular cytoplasm']):\n",
    "            \n",
    "            print(\"Patient diagnosed with positive P. falciparum malaria.\")\n",
    "            print(\"Treatment: ACT, OQ, QIM\")\n",
    "        \n",
    "        else:\n",
    "            print(\"Treat for other type of malaria.\")\n",
    "else:\n",
    "    print(\"Patient does not exhibit symptoms consistent with malaria.\")\n"
   ]
  },
  {
   "cell_type": "markdown",
   "id": "6f314b96-0801-4816-86fd-aa1c81d6aa20",
   "metadata": {},
   "source": [
    "### Explanation of the Code:\n",
    "\n",
    "##### Inputs:\n",
    "The variables at the top (symptoms_present, lab_test_result, parasite_features) represent inputs you might receive from actual data or user interaction.\n",
    "\n",
    "##### Decision Points:\n",
    "The if-elif conditions represent the decision points outlined in your diagram.\n",
    "\n",
    "##### Parasite Features:\n",
    "Using a dictionary (parasite_features) makes checking multiple conditions easy and readable."
   ]
  }
 ],
 "metadata": {
  "kernelspec": {
   "display_name": "Python 3 (ipykernel)",
   "language": "python",
   "name": "python3"
  },
  "language_info": {
   "codemirror_mode": {
    "name": "ipython",
    "version": 3
   },
   "file_extension": ".py",
   "mimetype": "text/x-python",
   "name": "python",
   "nbconvert_exporter": "python",
   "pygments_lexer": "ipython3",
   "version": "3.13.5"
  }
 },
 "nbformat": 4,
 "nbformat_minor": 5
}
