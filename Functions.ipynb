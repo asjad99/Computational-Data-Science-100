{
 "cells": [
  {
   "cell_type": "markdown",
   "id": "1b1652b8-cb74-498a-a926-a818ff68aa51",
   "metadata": {},
   "source": [
    "## About\n",
    "\n",
    "This notebook implements some of the beautiful functions in python\n",
    "\n",
    "Each demonstrates Python’s core strengths:\n",
    "\n",
    "Readability & conciseness\n",
    "\n",
    "Powerful built-in features\n",
    "\n",
    "Functional elegance\n",
    "\n",
    "Expressive syntax\n",
    "\n",
    "Intuitive code structure\n",
    "\n",
    "The beauty of Python lies in its combination of clarity, simplicity, and depth.\n",
    "\n"
   ]
  },
  {
   "cell_type": "code",
   "execution_count": 5,
   "id": "989bc303-437a-46c4-8f56-dd532670d402",
   "metadata": {},
   "outputs": [
    {
     "name": "stdout",
     "output_type": "stream",
     "text": [
      "The Zen of Python, by Tim Peters\n",
      "\n",
      "Beautiful is better than ugly.\n",
      "Explicit is better than implicit.\n",
      "Simple is better than complex.\n",
      "Complex is better than complicated.\n",
      "Flat is better than nested.\n",
      "Sparse is better than dense.\n",
      "Readability counts.\n",
      "Special cases aren't special enough to break the rules.\n",
      "Although practicality beats purity.\n",
      "Errors should never pass silently.\n",
      "Unless explicitly silenced.\n",
      "In the face of ambiguity, refuse the temptation to guess.\n",
      "There should be one-- and preferably only one --obvious way to do it.\n",
      "Although that way may not be obvious at first unless you're Dutch.\n",
      "Now is better than never.\n",
      "Although never is often better than *right* now.\n",
      "If the implementation is hard to explain, it's a bad idea.\n",
      "If the implementation is easy to explain, it may be a good idea.\n",
      "Namespaces are one honking great idea -- let's do more of those!\n"
     ]
    }
   ],
   "source": [
    "## Zen of Python\n",
    "\n",
    "import this\n"
   ]
  },
  {
   "cell_type": "markdown",
   "id": "5af07d13-805f-48ae-a8b4-e4924fd89155",
   "metadata": {},
   "source": [
    "### Quicksort (one-liner)\n",
    "\n",
    " recursive implementation of quicksort. It highlights Python's expressive power."
   ]
  },
  {
   "cell_type": "code",
   "execution_count": 3,
   "id": "ba22027b-efe9-4ffa-a818-0af8d1f0635e",
   "metadata": {},
   "outputs": [
    {
     "name": "stdout",
     "output_type": "stream",
     "text": [
      "[1, 2, 3, 5, 8, 9]\n"
     ]
    }
   ],
   "source": [
    "def quicksort(arr):\n",
    "    return (quicksort([x for x in arr[1:] if x <= arr[0]]) +\n",
    "            [arr[0]] +\n",
    "            quicksort([x for x in arr[1:] if x > arr[0]])) if arr else []\n",
    "\n",
    "print(quicksort([5, 2, 8, 3, 9, 1]))\n",
    "# Output: [1, 2, 3, 5, 8, 9]\n"
   ]
  },
  {
   "cell_type": "markdown",
   "id": "239bb805-b984-41ea-800e-2b7fa1637b51",
   "metadata": {},
   "source": [
    "### Fibonacci Sequence (with memoization)\n",
    "\n",
    "A beautiful example that elegantly leverages Python's decorators:\n"
   ]
  },
  {
   "cell_type": "code",
   "execution_count": 4,
   "id": "99f82ddd-3b28-4e3b-b06d-c7596adb49fc",
   "metadata": {},
   "outputs": [
    {
     "name": "stdout",
     "output_type": "stream",
     "text": [
      "[0, 1, 1, 2, 3, 5, 8, 13, 21, 34]\n"
     ]
    }
   ],
   "source": [
    "from functools import lru_cache\n",
    "\n",
    "@lru_cache(maxsize=None)\n",
    "def fib(n):\n",
    "    return n if n < 2 else fib(n-1) + fib(n-2)\n",
    "\n",
    "print([fib(n) for n in range(10)])\n",
    "# Output: [0, 1, 1, 2, 3, 5, 8, 13, 21, 34]\n"
   ]
  },
  {
   "cell_type": "markdown",
   "id": "d5a519b5-cdb4-463d-af2e-b39d92050338",
   "metadata": {},
   "source": [
    "### Euler's Identity (Symbolic)\n"
   ]
  },
  {
   "cell_type": "code",
   "execution_count": 6,
   "id": "6545c63c-c094-44ca-9896-ecba6cf32f95",
   "metadata": {},
   "outputs": [
    {
     "name": "stdout",
     "output_type": "stream",
     "text": [
      "0\n"
     ]
    }
   ],
   "source": [
    "import sympy as sp\n",
    "\n",
    "def euler_identity():\n",
    "    return sp.simplify(sp.exp(sp.I * sp.pi) + 1)\n",
    "\n",
    "print(euler_identity())\n",
    "# Output: 0"
   ]
  },
  {
   "cell_type": "markdown",
   "id": "342c8b38-4510-41fb-9cd6-e913cea5dec6",
   "metadata": {},
   "source": [
    "### Palindrome Check\n"
   ]
  },
  {
   "cell_type": "code",
   "execution_count": null,
   "id": "ef0d609f-6c23-4f35-9af4-868368c4b948",
   "metadata": {},
   "outputs": [],
   "source": [
    "def is_palindrome(s):\n",
    "    return s == s[::-1]\n",
    "\n",
    "print(is_palindrome(\"radar\"))  # True\n",
    "print(is_palindrome(\"python\")) # False"
   ]
  },
  {
   "cell_type": "markdown",
   "id": "b5be0b1f-18fe-44cc-97d6-ad4d6f40e04e",
   "metadata": {},
   "source": [
    "### Factorial (Recursive Simplicity)"
   ]
  },
  {
   "cell_type": "code",
   "execution_count": null,
   "id": "32746785-3f12-438e-9cf6-881eac5c522b",
   "metadata": {},
   "outputs": [],
   "source": [
    "def factorial(n):\n",
    "    return 1 if n <= 1 else n * factorial(n - 1)\n",
    "\n",
    "print(factorial(5))  # 120"
   ]
  },
  {
   "cell_type": "code",
   "execution_count": null,
   "id": "8a456ab3-d2f7-44b7-bca7-f3681ad015c8",
   "metadata": {},
   "outputs": [],
   "source": [
    " Prime Checker (Concise but Efficient)"
   ]
  },
  {
   "cell_type": "code",
   "execution_count": 7,
   "id": "62f5d5e5-b308-47eb-aa26-2f898ba01e3b",
   "metadata": {},
   "outputs": [
    {
     "name": "stdout",
     "output_type": "stream",
     "text": [
      "True\n",
      "False\n"
     ]
    }
   ],
   "source": [
    "def is_prime(n):\n",
    "    return n > 1 and all(n % i for i in range(2, int(n**0.5) + 1))\n",
    "\n",
    "print(is_prime(29))  # True\n",
    "print(is_prime(15))  # False"
   ]
  },
  {
   "cell_type": "markdown",
   "id": "32100c58-2652-4788-bae9-82f9d8ade364",
   "metadata": {},
   "source": [
    "### Flatten a Nested List (Recursively Beautiful)\n"
   ]
  },
  {
   "cell_type": "code",
   "execution_count": null,
   "id": "dff2d8bc-9bda-4ace-a754-50dddfbf031c",
   "metadata": {},
   "outputs": [],
   "source": [
    "def flatten(lst):\n",
    "    if isinstance(lst, list):\n",
    "        return [x for item in lst for x in flatten(item)]\n",
    "    else:\n",
    "        return [lst]\n",
    "\n",
    "nested = [1, [2, [3, 4], 5], [6]]\n",
    "print(flatten(nested))\n",
    "# Output: [1, 2, 3, 4, 5, 6]\n"
   ]
  },
  {
   "cell_type": "markdown",
   "id": "1c34edfc-ffa7-4331-a39f-743b80322e46",
   "metadata": {},
   "source": [
    " ### Fibonacci using a Generator (Memory Efficient Elegance)"
   ]
  },
  {
   "cell_type": "code",
   "execution_count": 9,
   "id": "1f121d0d-b79c-45b3-b848-ca7cc2c99f54",
   "metadata": {},
   "outputs": [
    {
     "name": "stdout",
     "output_type": "stream",
     "text": [
      "[0, 1, 1, 2, 3, 5, 8, 13, 21, 34]\n"
     ]
    }
   ],
   "source": [
    "def fibonacci(n):\n",
    "    a, b = 0, 1\n",
    "    for _ in range(n):\n",
    "        yield a\n",
    "        a, b = b, a + b\n",
    "\n",
    "print(list(fibonacci(10)))\n",
    "# Output: [0, 1, 1, 2, 3, 5, 8, 13, 21, 34]"
   ]
  },
  {
   "cell_type": "markdown",
   "id": "05916e5a-abe6-4d9c-a47e-a1c3d49a1542",
   "metadata": {},
   "source": [
    "### Grouping Data with defaultdict"
   ]
  },
  {
   "cell_type": "code",
   "execution_count": 11,
   "id": "c20e7426-0c13-45be-b983-1b3f520f34d7",
   "metadata": {},
   "outputs": [
    {
     "name": "stdout",
     "output_type": "stream",
     "text": [
      "defaultdict(<class 'list'>, {3: ['cat', 'dog'], 6: ['python'], 4: ['java'], 2: ['AI']})\n"
     ]
    }
   ],
   "source": [
    "from collections import defaultdict\n",
    "\n",
    "def group_by_length(words):\n",
    "    d = defaultdict(list)\n",
    "    for word in words:\n",
    "        d[len(word)].append(word)\n",
    "    return d\n",
    "\n",
    "print(group_by_length([\"cat\", \"dog\", \"python\", \"java\", \"AI\"]))\n",
    "# Output: {3: ['cat', 'dog'], 6: ['python'], 4: ['java'], 2: ['AI']}\n"
   ]
  },
  {
   "cell_type": "markdown",
   "id": "f88ae86e-8a53-46b1-a0c2-2f3c76330813",
   "metadata": {},
   "source": [
    "### Anagram Checker\n",
    "Clear, concise, and readable anagram checking:"
   ]
  },
  {
   "cell_type": "code",
   "execution_count": null,
   "id": "e5ca1bf7-3a98-40de-ada0-ed431fd92af1",
   "metadata": {},
   "outputs": [],
   "source": [
    "def is_anagram(s1, s2):\n",
    "    return sorted(s1.replace(\" \", \"\").lower()) == sorted(s2.replace(\" \", \"\").lower())\n",
    "\n",
    "print(is_anagram(\"listen\", \"silent\"))  # True\n",
    "print(is_anagram(\"hello\", \"world\"))    # False\n"
   ]
  },
  {
   "cell_type": "code",
   "execution_count": null,
   "id": "bf6109eb-a169-4321-93f7-06c8f41bf23c",
   "metadata": {},
   "outputs": [],
   "source": [
    "Approximate π (pi) using Leibniz Formula\n",
    "Simple and elegant numerical approximation:"
   ]
  },
  {
   "cell_type": "code",
   "execution_count": 12,
   "id": "c0e53dbd-5748-4391-9cf3-bf1dc1fd68c3",
   "metadata": {},
   "outputs": [
    {
     "name": "stdout",
     "output_type": "stream",
     "text": [
      "3.1415826535897935\n"
     ]
    }
   ],
   "source": [
    "def approximate_pi(terms=1000):\n",
    "    return 4 * sum((-1)**n / (2*n + 1) for n in range(terms))\n",
    "\n",
    "print(approximate_pi(100000))\n",
    "# Output: ~3.14159"
   ]
  },
  {
   "cell_type": "code",
   "execution_count": null,
   "id": "038339aa-50ec-4f2d-b240-6f9bff04dba0",
   "metadata": {},
   "outputs": [],
   "source": [
    ". Decorators (Clean & Elegant)\n",
    "Simple decorators enhance readability and reusability:"
   ]
  },
  {
   "cell_type": "code",
   "execution_count": null,
   "id": "4e0de95a-7659-4c86-aade-3e7c8963befc",
   "metadata": {},
   "outputs": [],
   "source": [
    "def greet(func):\n",
    "    def wrapper(*args, **kwargs):\n",
    "        print(\"Hello!\")\n",
    "        result = func(*args, **kwargs)\n",
    "        print(\"Goodbye!\")\n",
    "        return result\n",
    "    return wrapper\n",
    "\n",
    "@greet\n",
    "def say_name(name):\n",
    "    print(f\"I'm {name}\")\n",
    "\n",
    "say_name(\"Alice\")\n",
    "# Output:\n",
    "# Hello!\n",
    "# I'm Alice\n",
    "# Goodbye!\n"
   ]
  },
  {
   "cell_type": "markdown",
   "id": "ffe25a2e-cb57-4ca1-a4f6-83b240e82315",
   "metadata": {},
   "source": [
    "### Lambda and Map (Functional Elegance)\n",
    "Concise use of functional constructs:"
   ]
  },
  {
   "cell_type": "code",
   "execution_count": null,
   "id": "766725e4-c4a3-4397-9763-6409eb5b215e",
   "metadata": {},
   "outputs": [],
   "source": [
    "squares = list(map(lambda x: x*x, range(10)))\n",
    "print(squares)\n",
    "# Output: [0, 1, 4, 9, 16, 25, 36, 49, 64, 81]\n"
   ]
  }
 ],
 "metadata": {
  "kernelspec": {
   "display_name": "Python 3 (ipykernel)",
   "language": "python",
   "name": "python3"
  },
  "language_info": {
   "codemirror_mode": {
    "name": "ipython",
    "version": 3
   },
   "file_extension": ".py",
   "mimetype": "text/x-python",
   "name": "python",
   "nbconvert_exporter": "python",
   "pygments_lexer": "ipython3",
   "version": "3.13.5"
  }
 },
 "nbformat": 4,
 "nbformat_minor": 5
}
